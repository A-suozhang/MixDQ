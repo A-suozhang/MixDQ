{
 "cells": [
  {
   "cell_type": "markdown",
   "metadata": {},
   "source": [
    "### 1. the distribution of the original weight of SDXL-Turbo"
   ]
  },
  {
   "cell_type": "code",
   "execution_count": null,
   "metadata": {},
   "outputs": [],
   "source": [
    "import torch\n",
    "from diffusers import StableDiffusionPipeline, StableDiffusionXLPipeline, UNet2DModel, UNet2DConditionModel, LCMScheduler\n",
    "import matplotlib.pyplot as plt\n",
    "import numpy as np"
   ]
  },
  {
   "cell_type": "code",
   "execution_count": null,
   "metadata": {},
   "outputs": [],
   "source": [
    "def get_model(model_id: str=\"Lykon/dreamshaper-7\", cache_dir: str=\"/share/public/diffusion_quant/huggingface/hub\", type: str=\"lcm_lora\"):\n",
    "    print(f\"the weight is from {model_id}\")\n",
    "    # pipe = StableDiffusionPipeline.from_pretrained(model_id, torch_dtype=torch.float16, variant=\"fp16\")\n",
    "    if 'xl' in type:\n",
    "        pipe = StableDiffusionXLPipeline.from_pretrained(model_id, cache_dir=cache_dir)\n",
    "    else:\n",
    "        pipe = StableDiffusionPipeline.from_pretrained(model_id, cache_dir=cache_dir)\n",
    "\n",
    "    # print(type(model))\n",
    "    if 'lcm' in type:\n",
    "        pipe.scheduler = LCMScheduler.from_config(pipe.scheduler.config)\n",
    "    if 'lora' in type:\n",
    "        # load and fuse lcm lora\n",
    "        adapter_id = \"latent-consistency/lcm-lora-sdv1-5\"\n",
    "        pipe.load_lora_weights(adapter_id)\n",
    "        pipe.fuse_lora()\n",
    "\n",
    "    model = pipe.unet\n",
    "    # model.cuda()\n",
    "    # model.eval()\n",
    "    return model"
   ]
  },
  {
   "cell_type": "code",
   "execution_count": null,
   "metadata": {},
   "outputs": [],
   "source": [
    "def get_weights(model, layer_name):\n",
    "    for name, module in model.named_parameters():\n",
    "        # print(module.data.shape)\n",
    "        if name == layer_name:\n",
    "            weights = module.data\n",
    "            # 将权重张量转换为numpy数组，并取绝对值\n",
    "            weights_np = np.abs(weights.detach().numpy())\n",
    "            \n",
    "            # 获取输入通道和输出通道的数量\n",
    "            out_channels, in_channels = weights_np.shape[0:2]\n",
    "            \n",
    "            if len(weights_np.shape)==4:\n",
    "                # 在H、W维度上取均值\n",
    "                weights_np = weights_np.mean(axis=(2, 3))\n",
    "                # reshape成（out_channel，in_channel）维度的张量\n",
    "                weights_np = weights_np.reshape(out_channels, in_channels)\n",
    "            return weights_np"
   ]
  },
  {
   "cell_type": "code",
   "execution_count": null,
   "metadata": {},
   "outputs": [],
   "source": [
    "model_id = \"stabilityai/sdxl-turbo\"\n",
    "model = get_model(model_id=model_id, type=\"sdxl_turbo\")"
   ]
  },
  {
   "cell_type": "code",
   "execution_count": null,
   "metadata": {},
   "outputs": [],
   "source": [
    "weight_id = \"down_blocks.1.attentions.0.proj_out.weight\"  # 观察哪一层的权重\n",
    "weights_np = get_weights(model, weight_id)"
   ]
  },
  {
   "cell_type": "markdown",
   "metadata": {},
   "source": [
    "#### 3D view"
   ]
  },
  {
   "cell_type": "code",
   "execution_count": null,
   "metadata": {},
   "outputs": [],
   "source": [
    "import matplotlib.pyplot as plt\n",
    "import numpy as np\n",
    "from mpl_toolkits.mplot3d import Axes3D\n",
    "import matplotlib.colors as colors\n",
    "import os\n",
    "\n",
    "# weights_np[49:60,0:100] = 0.7\n",
    "\n",
    "# 创建一个新的图形和3D子图\n",
    "fig = plt.figure()\n",
    "ax = fig.add_subplot(111, projection='3d')\n",
    "# ax = plt.axes(projection='3d')\n",
    "\n",
    "# 绘制3D表面\n",
    "weights_np = weights_np\n",
    "cs = weights_np\n",
    "surf = ax.plot_surface(_X, _Y, weights_np, cmap='coolwarm', vmin=np.min(weights_np), vmax=np.max(weights_np)/2.5)\n",
    "# points = ax.scatter3D(_X, _Y, weights_np, c=cs, s=0.5, cmap='coolwarm', vmin=np.min(weights_np), vmax=np.max(weights_np))\n",
    "\n",
    "# # 创建一个自定义的归一化对象\n",
    "# norm = colors.Normalize(vmin=np.min(weights_np), vmax=np.max(weights_np), clip=True)\n",
    "# # 绘制3D表面\n",
    "# surf = ax.plot_surface(_X, _Y, weights_np, cmap='coolwarm', norm=norm)\n",
    "\n",
    "\n",
    "# 设置轴标签\n",
    "ax.set_xlabel('Output Channels')\n",
    "ax.set_ylabel('Input Channels')\n",
    "ax.set_zlabel('Absolute Weights')\n",
    "\n",
    "# ax.set_zlim([np.min(weights_np), np.max(weights_np)])\n",
    "ax.set_zlim([-np.max(np.abs(weights_np)), np.max(np.abs(weights_np))])\n",
    "print(np.max(np.abs(weights_np)))\n",
    "\n",
    "# 添加颜色条\n",
    "# fig.colorbar(points)\n",
    "fig.colorbar(surf)\n",
    "# ax.view_init(elev=20, azim=20)\n",
    "# # 设置面板颜色\n",
    "# ax.w_xaxis.set_pane_color((1, 0.1, 1, 1))  # 设置x轴面板为白色\n",
    "# ax.w_yaxis.set_pane_color((1, 0.1, 1, 1))  # 设置y轴面板为白色\n",
    "# ax.w_zaxis.set_pane_color((1, 0.1, 1, 1))  # 设置z轴面板为白色\n",
    "\n",
    "# 保存图像到文件\n",
    "os.makedirs('./act_distribution_img/',exist_ok=True)\n",
    "plt.savefig('./act_distribution_img/weights_distribution_3d.png')\n",
    "\n",
    "# 显示图形\n",
    "# plt.show()\n"
   ]
  },
  {
   "cell_type": "code",
   "execution_count": null,
   "metadata": {},
   "outputs": [],
   "source": [
    "weight_id = \"down_blocks.0.resnets.1.conv1.weight\"  # 观察哪一层的权重\n",
    "weights_np = get_weights(model, weight_id)\n",
    "out_channels, in_channels = weights_np.shape\n",
    "\n",
    "# --------- Plotly Equivalent of this Plot -------\n",
    "\n",
    "import plotly.graph_objects as go\n",
    "import numpy as np\n",
    "from plotly.offline import init_notebook_mode, iplot\n",
    "init_notebook_mode(connected=True)\n",
    "\n",
    "# Assuming you have the meshgrid arrays _X, _Y, and weights_np defined\n",
    "\n",
    "fig = go.Figure()\n",
    "\n",
    "colormap_span = 3\n",
    "channel_subsample = None\n",
    "\n",
    "if channel_subsample is not None:\n",
    "    out_channels = channel_subsample\n",
    "    in_channels = channel_subsample\n",
    "    weights_np_ = weights_np[:channel_subsample, :channel_subsample]\n",
    "else:\n",
    "    weights_np_ = weights_np\n",
    "    \n",
    "# 创建X，Y meshgrid\n",
    "_x = np.arange(out_channels)\n",
    "_y = np.arange(in_channels)\n",
    "_X, _Y = np.meshgrid(_x, _y)\n",
    "\n",
    "_X = _X.T\n",
    "_Y = _Y.T\n",
    "\n",
    "surf = go.Surface(x=_X, y=_Y, z=weights_np_, colorscale='IceFire', cmin=np.min(weights_np_), \\\n",
    "                  cmax=np.max(weights_np_),opacity=0.5)\n",
    "fig.add_trace(surf)\n",
    "\n",
    "# Set z-limits\n",
    "fig.update_layout(scene=dict(zaxis=dict(range=[-np.max(np.abs(weights_np)), np.max(np.abs(weights_np))])),\n",
    "                  width=800, height=800,  # Set the figure size\n",
    "                 )\n",
    "\n",
    "# Print max absolute value of weights_np\n",
    "print(np.max(np.abs(weights_np_)))\n",
    "\n",
    "# Add color bar\n",
    "fig.update_layout()\n",
    "\n",
    "# Show the plot\n",
    "iplot(fig)\n"
   ]
  },
  {
   "cell_type": "markdown",
   "metadata": {},
   "source": [
    "#### 2D view"
   ]
  },
  {
   "cell_type": "code",
   "execution_count": null,
   "metadata": {},
   "outputs": [],
   "source": [
    "weight_id = \"down_blocks.0.resnets.1.conv1.weight\"  # 观察哪一层的权重\n",
    "for name, module in model.named_parameters():\n",
    "    # print(module.data.shape)\n",
    "    if name == weight_id:\n",
    "        weights = module.data\n",
    "\n",
    "import torch\n",
    "import matplotlib.pyplot as plt\n",
    "\n",
    "# 是否选择逐channel去看分布\n",
    "channel_type = None\n",
    "# 看第几个channel\n",
    "view_channel = 1\n",
    "\n",
    "if channel_type=='output_channel':\n",
    "    tensor = weights[view_channel].reshape(-1)\n",
    "elif channel_type=='input_channel':\n",
    "    tensor = weights[:,view_channel].reshape(-1)  # view不能处理内存不连续的张量\n",
    "else:\n",
    "    # 假设您的张量是 tensor\n",
    "    tensor = weights.reshape(-1)\n",
    "\n",
    "# 将张量转换为numpy数组\n",
    "numpy_array = tensor.numpy()\n",
    "\n",
    "# 使用matplotlib的hist函数绘制分布图\n",
    "plt.hist(numpy_array, bins='auto', label=weight_id+': '+channel_type+'.'+str(view_channel) if  channel_type is not None else weight_id)  \n",
    "# 'auto'会自动选择最佳的bins数量\n",
    "\n",
    "plt.title('distribution')\n",
    "plt.xlabel('value')\n",
    "plt.ylabel('freq')\n",
    "\n",
    "plt.legend()\n",
    "plt.yscale('log')\n",
    "\n",
    "plt.show()\n"
   ]
  },
  {
   "cell_type": "markdown",
   "metadata": {},
   "source": [
    "#### Box-Plot"
   ]
  },
  {
   "cell_type": "code",
   "execution_count": null,
   "metadata": {},
   "outputs": [],
   "source": [
    "import torch\n",
    "import matplotlib.pyplot as plt\n",
    "\n",
    "# 假设您的张量是 tensor\n",
    "tensor = weights  # 这是一个4阶张量，第0阶和第1阶分别代表输出通道和输入通道\n",
    "\n",
    "# 假设 channel_type 是 'output' 或 'input'\n",
    "channel_type = 'output_channel'  # 请将此行替换为实际的 channel_type\n",
    "\n",
    "if channel_type == 'output_channel':\n",
    "    channels = [tensor[i].numpy().flatten() for i in range(tensor.shape[0])]\n",
    "elif channel_type == 'input_channel':\n",
    "    channels = [tensor[:, j].numpy().flatten() for j in range(tensor.shape[1])]\n",
    "\n",
    "plt.figure(figsize=(22, 10))\n",
    "\n",
    "# 使用matplotlib的boxplot函数绘制箱状图\n",
    "bplot = plt.boxplot(channels, patch_artist=True, notch=True, vert=1)\n",
    "\n",
    "colors = ['pink', 'lightblue', 'lightgreen']\n",
    "for patch, color in zip(bplot['boxes'], colors):\n",
    "    patch.set_facecolor(color)\n",
    "\n",
    "# 添加图例\n",
    "plt.legend([bplot[\"boxes\"][0]], [weight_id+': '+channel_type], loc='upper right')\n",
    "\n",
    "plt.title('box-plot')\n",
    "plt.xlabel('channel_index')\n",
    "plt.ylabel('range')\n",
    "\n",
    "plt.show()\n"
   ]
  },
  {
   "cell_type": "markdown",
   "metadata": {},
   "source": [
    "### 2. the comparison between the sdxl-turbo and the original sdxl"
   ]
  },
  {
   "cell_type": "code",
   "execution_count": null,
   "metadata": {},
   "outputs": [],
   "source": [
    "model_id_non_turbo = \"stabilityai/stable-diffusion-xl-base-1.0\"\n",
    "model = get_model(model_id=model_id_non_turbo, type=\"sdxl\")\n",
    "weight_id_non_turbo = weight_id  # 观察哪一层的权重\n",
    "weights_non_turbo = get_weights(model, weight_id)"
   ]
  },
  {
   "cell_type": "code",
   "execution_count": null,
   "metadata": {},
   "outputs": [],
   "source": [
    "import torch\n",
    "import matplotlib.pyplot as plt\n",
    "import numpy as np\n",
    "\n",
    "# 是否选择逐channel去看分布\n",
    "channel_type = None\n",
    "# 看第几个channel\n",
    "view_channel = 1\n",
    "\n",
    "if channel_type=='output_channel':\n",
    "    flat_tensor1 = weights[view_channel].reshape(-1)\n",
    "    flat_tensor2 = weights_non_turbo[view_channel].reshape(-1)\n",
    "elif channel_type=='input_channel':\n",
    "    flat_tensor1 = weights[:,view_channel].reshape(-1)  # view不能处理内存不连续的张量\n",
    "    flat_tensor2 = weights_non_turbo[:,view_channel].reshape(-1)  # view不能处理内存不连续的张量\n",
    "else:\n",
    "    # 假设您的张量是 tensor\n",
    "    flat_tensor1 = weights.reshape(-1)\n",
    "    flat_tensor2 = weights_non_turbo.reshape(-1)\n",
    "\n",
    "# 将张量转换为numpy数组\n",
    "numpy_array1 = flat_tensor1.numpy()\n",
    "numpy_array2 = flat_tensor2.numpy()\n",
    "\n",
    "# 使用matplotlib的hist函数绘制分布图，设置weights参数\n",
    "plt.hist(numpy_array2, bins=3000, alpha=0.5, label='sdxl_'+weight_id_non_turbo+': '+channel_type+'.'+str(view_channel) if  channel_type is not None else 'sdxl_'+weight_id_non_turbo)\n",
    "plt.hist(numpy_array1, bins=3000, alpha=0.5, label='sdxl_turbo_'+weight_id+': '+channel_type+'.'+str(view_channel) if  channel_type is not None else 'sdxl_turbo_'+weight_id)\n",
    "\n",
    "\n",
    "# 设置y轴的刻度为对数刻度\n",
    "plt.yscale('log')\n",
    "plt.title('distribution')\n",
    "plt.xlabel('value')\n",
    "plt.ylabel('freq')\n",
    "\n",
    "plt.legend()\n",
    "plt.show()\n",
    "\n",
    "\n"
   ]
  },
  {
   "cell_type": "code",
   "execution_count": null,
   "metadata": {},
   "outputs": [],
   "source": [
    "import torch\n",
    "import numpy as np\n",
    "\n",
    "def compute_weight_info(weights):\n",
    "# 假设您的张量是 tensor\n",
    "    tensor = weights.reshape(-1)\n",
    "\n",
    "    # 将张量转换为numpy数组\n",
    "    numpy_array = tensor.numpy()\n",
    "\n",
    "    # 计算熵\n",
    "    counts, _ = np.histogram(numpy_array, bins=3000)\n",
    "    p = counts / counts.sum()\n",
    "    p = p+1e-10\n",
    "    entropy = -np.sum(p * np.log(p))\n",
    "\n",
    "    # 计算离群值的分布程度\n",
    "    # 基于四分位数范围（IQR）的离群值检测方法\n",
    "    q1, q2 = np.percentile(numpy_array, [95, 5])\n",
    "    iqr = q1 - q2\n",
    "    threshold = 1.5 * iqr\n",
    "    outliers = numpy_array[(numpy_array < (q1 - threshold)) | (numpy_array > (q2 + threshold))]\n",
    "    outlier_count = len(outliers) / len(numpy_array)\n",
    "\n",
    "    # 计算方差\n",
    "    variance = np.var(numpy_array)\n",
    "\n",
    "    print(f'entropy: {entropy}')\n",
    "    print(f'outlier_percent: {outlier_count*1e3}x1^(-3)')\n",
    "    print(f'variance: {variance*1e5}x10^(-5)')\n",
    "    return entropy, outlier_count, variance"
   ]
  },
  {
   "cell_type": "code",
   "execution_count": null,
   "metadata": {},
   "outputs": [],
   "source": [
    "compute_weight_info(weights)"
   ]
  },
  {
   "cell_type": "code",
   "execution_count": null,
   "metadata": {},
   "outputs": [],
   "source": [
    "def get_weights_info(model):\n",
    "    weight_names = []\n",
    "    entropys = []\n",
    "    variances = []\n",
    "    outlier_freqs = []\n",
    "    for name, module in model.named_parameters():\n",
    "        print(module.data.shape)\n",
    "        # print(line, type(line))\n",
    "        weight_names.append(name)\n",
    "        entropy, variance, outlier_freq = compute_weight_info(module.data)\n",
    "        entropys.append(entropy)\n",
    "        variances.append(variance)\n",
    "        outlier_freqs.append(outlier_freq)\n",
    "    return weight_names, entropys, variances, outlier_freqs"
   ]
  },
  {
   "cell_type": "code",
   "execution_count": null,
   "metadata": {},
   "outputs": [],
   "source": [
    "weight_names, entropys, variances, outlier_freqs = get_weights_info(model)\n",
    "# 使用matplotlib来绘制折线图\n",
    "plt.figure(figsize=(80, 6))\n",
    "plt.plot(weight_names, entropys, marker='o')\n",
    "plt.xlabel('weight of layers')\n",
    "plt.ylabel('entropys')\n",
    "plt.title('entropys for weights of different layers')\n",
    "plt.grid(True)\n",
    "plt.xticks(rotation=90, fontsize=2)\n",
    "plt.show()"
   ]
  },
  {
   "cell_type": "code",
   "execution_count": null,
   "metadata": {},
   "outputs": [],
   "source": [
    "plt.figure(figsize=(80, 8))\n",
    "plt.plot(weight_names, entropys, marker='o')\n",
    "plt.xlabel('Blocks')\n",
    "plt.ylabel('SQNR (dB)')\n",
    "plt.title('SQNR for different blocks')\n",
    "plt.grid(True)\n",
    "plt.xticks(rotation=90, fontsize=6)\n",
    "plt.show()"
   ]
  },
  {
   "cell_type": "code",
   "execution_count": null,
   "metadata": {},
   "outputs": [],
   "source": [
    "plt.figure(figsize=(80, 8))\n",
    "plt.plot(weight_names, entropys, marker='o')\n",
    "plt.xlabel('Blocks')\n",
    "plt.ylabel('SQNR (dB)')\n",
    "plt.title('SQNR for different blocks')\n",
    "plt.grid(True)\n",
    "plt.xticks(rotation=60, fontsize=6)\n",
    "plt.show()"
   ]
  }
 ],
 "metadata": {
  "kernelspec": {
   "display_name": "Python 3 (ipykernel)",
   "language": "python",
   "name": "python3"
  },
  "language_info": {
   "codemirror_mode": {
    "name": "ipython",
    "version": 3
   },
   "file_extension": ".py",
   "mimetype": "text/x-python",
   "name": "python",
   "nbconvert_exporter": "python",
   "pygments_lexer": "ipython3",
   "version": "3.8.5"
  },
  "vscode": {
   "interpreter": {
    "hash": "894a96bdd4d71ba244c894bd3db6ec4d87f63b70aaf1f1eeda20f706b75ea482"
   }
  }
 },
 "nbformat": 4,
 "nbformat_minor": 4
}
